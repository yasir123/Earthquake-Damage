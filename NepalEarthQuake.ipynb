{
 "cells": [
  {
   "cell_type": "code",
   "execution_count": 33,
   "metadata": {},
   "outputs": [],
   "source": [
    "from ipywidgets import widgets\n",
    "from sklearn.compose import ColumnTransformer\n",
    "from sklearn.decomposition import PCA, TruncatedSVD\n",
    "from sklearn.ensemble import ExtraTreesClassifier\n",
    "from sklearn.linear_model import LogisticRegression\n",
    "from sklearn.metrics import f1_score\n",
    "from sklearn.model_selection import GridSearchCV, RandomizedSearchCV\n",
    "from sklearn.model_selection import train_test_split\n",
    "from sklearn.pipeline import Pipeline\n",
    "from sklearn.preprocessing import OneHotEncoder\n",
    "import matplotlib.pyplot as plt\n",
    "import numpy as np\n",
    "import pandas as pd"
   ]
  },
  {
   "cell_type": "markdown",
   "metadata": {},
   "source": [
    "# Get Data from Website"
   ]
  },
  {
   "cell_type": "code",
   "execution_count": 3,
   "metadata": {},
   "outputs": [
    {
     "name": "stdout",
     "output_type": "stream",
     "text": [
      "--2019-11-14 09:14:08--  https://s3.amazonaws.com/drivendata/data/57/public/train_values.csv\n",
      "Resolving s3.amazonaws.com (s3.amazonaws.com)... 52.216.107.142\n",
      "Connecting to s3.amazonaws.com (s3.amazonaws.com)|52.216.107.142|:443... connected.\n",
      "HTTP request sent, awaiting response... 200 OK\n",
      "Length: 23442727 (22M) [text/csv]\n",
      "Saving to: ‘./nepal/train_values.csv’\n",
      "\n",
      "train_values.csv    100%[===================>]  22.36M  20.6MB/s    in 1.1s    \n",
      "\n",
      "2019-11-14 09:14:09 (20.6 MB/s) - ‘./nepal/train_values.csv’ saved [23442727/23442727]\n",
      "\n",
      "--2019-11-14 09:14:09--  https://s3.amazonaws.com/drivendata/data/57/public/train_labels.csv\n",
      "Resolving s3.amazonaws.com (s3.amazonaws.com)... 52.216.107.142\n",
      "Connecting to s3.amazonaws.com (s3.amazonaws.com)|52.216.107.142|:443... connected.\n",
      "HTTP request sent, awaiting response... 200 OK\n",
      "Length: 2330792 (2.2M) [text/csv]\n",
      "Saving to: ‘./nepal/train_labels.csv’\n",
      "\n",
      "train_labels.csv    100%[===================>]   2.22M  5.03MB/s    in 0.4s    \n",
      "\n",
      "2019-11-14 09:14:10 (5.03 MB/s) - ‘./nepal/train_labels.csv’ saved [2330792/2330792]\n",
      "\n",
      "--2019-11-14 09:14:10--  https://s3.amazonaws.com/drivendata/data/57/public/test_values.csv\n",
      "Resolving s3.amazonaws.com (s3.amazonaws.com)... 52.216.107.142\n",
      "Connecting to s3.amazonaws.com (s3.amazonaws.com)|52.216.107.142|:443... connected.\n",
      "HTTP request sent, awaiting response... 200 OK\n",
      "Length: 7815385 (7.5M) [text/csv]\n",
      "Saving to: ‘./nepal/test_values.csv’\n",
      "\n",
      "test_values.csv     100%[===================>]   7.45M  12.5MB/s    in 0.6s    \n",
      "\n",
      "2019-11-14 09:14:11 (12.5 MB/s) - ‘./nepal/test_values.csv’ saved [7815385/7815385]\n",
      "\n"
     ]
    }
   ],
   "source": [
    "!wget https://s3.amazonaws.com/drivendata/data/57/public/train_values.csv -nc -P ./nepal/\n",
    "!wget https://s3.amazonaws.com/drivendata/data/57/public/train_labels.csv -nc -P ./nepal/\n",
    "!wget https://s3.amazonaws.com/drivendata/data/57/public/test_values.csv -nc -P ./nepal/"
   ]
  },
  {
   "cell_type": "markdown",
   "metadata": {},
   "source": [
    "# Import Data"
   ]
  },
  {
   "cell_type": "code",
   "execution_count": 4,
   "metadata": {},
   "outputs": [],
   "source": [
    "X = pd.read_csv('./nepal/train_values.csv', \n",
    "                index_col='building_id', \n",
    "                dtype={'geo_level_1_id': 'object',\n",
    "                       'geo_level_2_id': 'object',\n",
    "                       'geo_level_3_id': 'object'})\n",
    "\n",
    "y = pd.read_csv('nepal/train_labels.csv', index_col='building_id')['damage_grade']"
   ]
  },
  {
   "cell_type": "markdown",
   "metadata": {
    "heading_collapsed": true
   },
   "source": [
    "# Attempt 1: Model w/ One Feature"
   ]
  },
  {
   "cell_type": "code",
   "execution_count": null,
   "metadata": {
    "hidden": true
   },
   "outputs": [],
   "source": [
    "def housing_plot(X, y):\n",
    "    def plotter(column):\n",
    "        valid_rows = X[column].notna()\n",
    "        plt.plot(X.loc[valid_rows, column], y[valid_rows], '.', color='k')\n",
    "        plt.ylabel('Damage Level')\n",
    "        plt.yticks([1,2,3])\n",
    "    \n",
    "    return plotter\n",
    "\n",
    "dropdown_values = sorted(X.columns)\n",
    "widgets.interact(housing_plot(X, y), column=dropdown_values);"
   ]
  },
  {
   "cell_type": "code",
   "execution_count": null,
   "metadata": {
    "hidden": true
   },
   "outputs": [],
   "source": [
    "X_height = X[['height_percentage']]\n",
    "X_height.head()"
   ]
  },
  {
   "cell_type": "markdown",
   "metadata": {
    "hidden": true
   },
   "source": [
    "## Train-test split"
   ]
  },
  {
   "cell_type": "code",
   "execution_count": null,
   "metadata": {
    "hidden": true
   },
   "outputs": [],
   "source": [
    "X_train, X_test, y_train, y_test = train_test_split(X_height, \n",
    "                                                    y, \n",
    "                                                    test_size=0.2, \n",
    "                                                    random_state=42)"
   ]
  },
  {
   "cell_type": "code",
   "execution_count": null,
   "metadata": {
    "hidden": true
   },
   "outputs": [],
   "source": [
    "one_feat_model = LogisticRegression(solver='lbfgs', multi_class='auto')\n",
    "one_feat_model.fit(X_train, y_train)"
   ]
  },
  {
   "cell_type": "code",
   "execution_count": null,
   "metadata": {
    "hidden": true
   },
   "outputs": [],
   "source": [
    "y_train_pred = one_feat_model.predict(X_train)"
   ]
  },
  {
   "cell_type": "markdown",
   "metadata": {
    "hidden": true
   },
   "source": [
    "## Compare in- and out-sample metrics (f1 score)"
   ]
  },
  {
   "cell_type": "code",
   "execution_count": null,
   "metadata": {
    "hidden": true
   },
   "outputs": [],
   "source": [
    "print('In-sample f1 score:')\n",
    "f1_score(y_train, y_train_pred, average='micro')"
   ]
  },
  {
   "cell_type": "code",
   "execution_count": null,
   "metadata": {
    "hidden": true
   },
   "outputs": [],
   "source": [
    "y_test_pred = one_feat_model.predict(X_test)\n",
    "print('Out-sample f1 score:')\n",
    "f1_score(y_test, y_test_pred, average='micro')"
   ]
  },
  {
   "cell_type": "markdown",
   "metadata": {
    "hidden": true
   },
   "source": [
    "## Create submission"
   ]
  },
  {
   "cell_type": "code",
   "execution_count": null,
   "metadata": {
    "hidden": true
   },
   "outputs": [],
   "source": [
    "X_comp_test = pd.read_csv('nepal/test_values.csv', index_col='building_id')\n",
    "X_comp_test.head()"
   ]
  },
  {
   "cell_type": "code",
   "execution_count": null,
   "metadata": {
    "hidden": true
   },
   "outputs": [],
   "source": [
    "y_comp_pred = one_feat_model.predict(X_comp_test[['height_percentage']])"
   ]
  },
  {
   "cell_type": "code",
   "execution_count": null,
   "metadata": {
    "hidden": true
   },
   "outputs": [],
   "source": [
    "y_submission = pd.DataFrame(y_comp_pred, index=X_comp_test.index, columns=['damage_grade'])"
   ]
  },
  {
   "cell_type": "code",
   "execution_count": null,
   "metadata": {
    "hidden": true
   },
   "outputs": [],
   "source": [
    "y_submission.to_csv('nepal/2019-11-11_submission.csv')"
   ]
  },
  {
   "cell_type": "markdown",
   "metadata": {
    "hidden": true
   },
   "source": [
    "**Score: 0.56**"
   ]
  },
  {
   "cell_type": "markdown",
   "metadata": {},
   "source": [
    "# Create Functions for Repetitive Tasks"
   ]
  },
  {
   "cell_type": "code",
   "execution_count": 5,
   "metadata": {},
   "outputs": [],
   "source": [
    "def create_submission(model, X_cols=None):\n",
    "    X = pd.read_csv('./nepal/test_values.csv', \n",
    "                    index_col='building_id', \n",
    "                    dtype={'geo_level_1_id': 'object',\n",
    "                           'geo_level_2_id': 'object',\n",
    "                           'geo_level_3_id': 'object'})\n",
    "    if X_cols != None:\n",
    "        X = X[X_cols]\n",
    "    y_pred = model.predict(X)\n",
    "    submission = pd.DataFrame(y_pred, index=X.index, \n",
    "                              columns=['damage_grade'])\n",
    "    date_string = pd.Timestamp.utcnow().strftime(format='%Y-%m-%d_%H%M_')\n",
    "    submission.to_csv(f'nepal/{date_string}submission.csv')\n",
    "\n",
    "def get_metrics(model, X_train, X_test, y_train, y_test):\n",
    "    y_train_pred = model.predict(X_train)\n",
    "    y_test_pred = model.predict(X_test)\n",
    "    in_samp_score = f1_score(y_train, y_train_pred, average='micro')\n",
    "    out_samp_score = f1_score(y_test, y_test_pred, average='micro')\n",
    "    print('In-sample f1 score:', in_samp_score)\n",
    "    print('Out-sample f1 score:', out_samp_score)"
   ]
  },
  {
   "cell_type": "markdown",
   "metadata": {
    "heading_collapsed": true
   },
   "source": [
    "# Attempt 2: Model w/ All Numerical Features"
   ]
  },
  {
   "cell_type": "code",
   "execution_count": null,
   "metadata": {
    "hidden": true
   },
   "outputs": [],
   "source": [
    "X.head()"
   ]
  },
  {
   "cell_type": "code",
   "execution_count": null,
   "metadata": {
    "hidden": true
   },
   "outputs": [],
   "source": [
    "numerical_features = [col for col in X.columns if X[col].dtype == 'int64']\n",
    "# Another way: list(X.describe().columns)"
   ]
  },
  {
   "cell_type": "code",
   "execution_count": null,
   "metadata": {
    "hidden": true
   },
   "outputs": [],
   "source": [
    "X_train, X_test, y_train, y_test = train_test_split(X, y, \n",
    "                                                    test_size=0.2, \n",
    "                                                    random_state=42)"
   ]
  },
  {
   "cell_type": "code",
   "execution_count": null,
   "metadata": {
    "hidden": true
   },
   "outputs": [],
   "source": [
    "num_feat_model = LogisticRegression(solver='lbfgs', \n",
    "                                    max_iter=1000, \n",
    "                                    multi_class='auto')\n",
    "num_feat_model.fit(X_train[numerical_features], y_train)\n",
    "y_train_pred = num_feat_model.predict(X_train[numerical_features])\n",
    "\n",
    "print('In-sample f1 score:')\n",
    "f1_score(y_train, y_train_pred, average='micro')"
   ]
  },
  {
   "cell_type": "code",
   "execution_count": null,
   "metadata": {
    "hidden": true
   },
   "outputs": [],
   "source": [
    "y_test_pred = num_feat_model.predict(X_test[numerical_features])\n",
    "\n",
    "print('Out-sample f1 score:')\n",
    "f1_score(y_test, y_test_pred, average='micro')"
   ]
  },
  {
   "cell_type": "markdown",
   "metadata": {
    "heading_collapsed": true
   },
   "source": [
    "# Attempt 3: Numerical Features w/ Another Predictor"
   ]
  },
  {
   "cell_type": "code",
   "execution_count": null,
   "metadata": {
    "hidden": true
   },
   "outputs": [],
   "source": [
    "from sklearn.ensemble import GradientBoostingClassifier\n",
    "\n",
    "xg_num_model = GradientBoostingClassifier()\n",
    "xg_num_model.fit(X_train[numerical_features], y_train)\n",
    "y_train_pred = xg_num_model.predict(X_train[numerical_features])\n",
    "\n",
    "print('In-sample f1 score:')\n",
    "f1_score(y_train, y_train_pred, average='micro')"
   ]
  },
  {
   "cell_type": "code",
   "execution_count": null,
   "metadata": {
    "hidden": true
   },
   "outputs": [],
   "source": [
    "y_test_pred = xg_num_model.predict(X_test[numerical_features])\n",
    "\n",
    "print('Out-sample f1 score:')\n",
    "f1_score(y_test, y_test_pred, average='micro')"
   ]
  },
  {
   "cell_type": "code",
   "execution_count": null,
   "metadata": {
    "hidden": true
   },
   "outputs": [],
   "source": [
    "create_submission(xg_num_model, numerical_features)"
   ]
  },
  {
   "cell_type": "markdown",
   "metadata": {},
   "source": [
    "# Attempt 4: Use all features (numeric and categorical)"
   ]
  },
  {
   "cell_type": "code",
   "execution_count": 16,
   "metadata": {},
   "outputs": [],
   "source": [
    "categorical_variables = [col for col in X.columns\n",
    "                         if X[col].dtype == 'object']\n",
    "\n",
    "X_train, X_test, y_train, y_test = train_test_split(X, y, test_size=.2, \n",
    "                                                    random_state=42)"
   ]
  },
  {
   "cell_type": "code",
   "execution_count": null,
   "metadata": {},
   "outputs": [],
   "source": [
    "ct = ColumnTransformer([\n",
    "    ('ohe', OneHotEncoder(handle_unknown='ignore'), categorical_variables)],\n",
    "    remainder='passthrough')\n",
    "\n",
    "all_feat_model = Pipeline([\n",
    "    ('transformer', ct),\n",
    "    ('classifier', LogisticRegression(solver='lbfgs', multi_class='auto'))\n",
    "])\n",
    "\n",
    "all_feat_model.fit(X, y);"
   ]
  },
  {
   "cell_type": "code",
   "execution_count": null,
   "metadata": {},
   "outputs": [],
   "source": [
    "y_pred = all_feat_model.predict(X)\n",
    "f1_score(y_pred, y, average='micro')"
   ]
  },
  {
   "cell_type": "code",
   "execution_count": null,
   "metadata": {},
   "outputs": [],
   "source": [
    "create_submission(all_feat_model)"
   ]
  },
  {
   "cell_type": "markdown",
   "metadata": {},
   "source": [
    "# Attempt 5: Ensemble Predictor with GridSearch"
   ]
  },
  {
   "cell_type": "code",
   "execution_count": 40,
   "metadata": {},
   "outputs": [
    {
     "data": {
      "text/plain": [
       "array([ 2,  4,  8, 16, 32])"
      ]
     },
     "execution_count": 40,
     "metadata": {},
     "output_type": "execute_result"
    }
   ],
   "source": [
    "np.power(2,np.arange(1,6))"
   ]
  },
  {
   "cell_type": "code",
   "execution_count": null,
   "metadata": {},
   "outputs": [
    {
     "name": "stdout",
     "output_type": "stream",
     "text": [
      "Fitting 3 folds for each of 25 candidates, totalling 75 fits\n"
     ]
    },
    {
     "name": "stderr",
     "output_type": "stream",
     "text": [
      "[Parallel(n_jobs=6)]: Using backend LokyBackend with 6 concurrent workers.\n",
      "/Users/nicholascifuentes-goodbody/anaconda3/envs/wq3/lib/python3.7/site-packages/joblib/externals/loky/process_executor.py:706: UserWarning: A worker stopped while some jobs were given to the executor. This can be caused by a too short worker timeout or by a memory leak.\n",
      "  \"timeout or by a memory leak.\", UserWarning\n"
     ]
    }
   ],
   "source": [
    "ct = ColumnTransformer([\n",
    "    ('ohe', OneHotEncoder(handle_unknown='ignore'), categorical_variables)],\n",
    "    remainder='passthrough')\n",
    "\n",
    "param_grid = {#'max_depth' : range(3,13,3),\n",
    "              'min_samples_split' : np.power(2,np.arange(1,6)),\n",
    "              'min_samples_leaf': np.power(2,np.arange(1,6))}\n",
    "\n",
    "gs = GridSearchCV(ExtraTreesClassifier(),\n",
    "                  param_grid=param_grid,\n",
    "                  cv=3,\n",
    "                  n_jobs=6,\n",
    "                  verbose=1)\n",
    "\n",
    "all_feat_model = Pipeline([\n",
    "    ('transformer', ct),\n",
    "    ('classifier', gs)\n",
    "])\n",
    "\n",
    "all_feat_model.fit(X_train, y_train);"
   ]
  },
  {
   "cell_type": "code",
   "execution_count": 43,
   "metadata": {},
   "outputs": [
    {
     "data": {
      "text/plain": [
       "{'max_depth': 12, 'min_samples_leaf': 8, 'min_samples_split': 2}"
      ]
     },
     "execution_count": 43,
     "metadata": {},
     "output_type": "execute_result"
    }
   ],
   "source": [
    "all_feat_model.named_steps['classifier'].best_params_"
   ]
  },
  {
   "cell_type": "code",
   "execution_count": 44,
   "metadata": {},
   "outputs": [
    {
     "name": "stdout",
     "output_type": "stream",
     "text": [
      "In-sample f1 score: 0.6022831926323868\n",
      "Out-sample f1 score: 0.5981466203641527\n"
     ]
    }
   ],
   "source": [
    "get_metrics(all_feat_model, X_train, X_test, y_train, y_test)"
   ]
  },
  {
   "cell_type": "code",
   "execution_count": 26,
   "metadata": {},
   "outputs": [],
   "source": [
    "create_submission(model=all_feat_model)"
   ]
  },
  {
   "cell_type": "code",
   "execution_count": null,
   "metadata": {},
   "outputs": [],
   "source": []
  }
 ],
 "metadata": {
  "kernelspec": {
   "display_name": "Python 3",
   "language": "python",
   "name": "python3"
  },
  "language_info": {
   "codemirror_mode": {
    "name": "ipython",
    "version": 3
   },
   "file_extension": ".py",
   "mimetype": "text/x-python",
   "name": "python",
   "nbconvert_exporter": "python",
   "pygments_lexer": "ipython3",
   "version": "3.7.3"
  }
 },
 "nbformat": 4,
 "nbformat_minor": 2
}
